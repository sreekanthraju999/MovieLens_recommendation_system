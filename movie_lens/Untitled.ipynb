{
 "cells": [
  {
   "cell_type": "code",
   "execution_count": null,
   "metadata": {},
   "outputs": [],
   "source": [
    "import pandas as pd\n",
    "from collections import Counter\n",
    "\n",
    "data=pd.read_csv(\"ratings.csv\")\n",
    "movies=pd.read_csv(\"movies.csv\")\n",
    "data.head(5)"
   ]
  },
  {
   "cell_type": "code",
   "execution_count": null,
   "metadata": {},
   "outputs": [],
   "source": [
    "z=int(input())\n",
    "global c\n",
    "\n",
    "if(z==1):\n",
    "    view=data[data['Date'].str.contains('2018')]\n",
    "    c=2\n",
    "if(z==0):\n",
    "    view=data\n",
    "    c=5\n",
    "\n",
    "print(view.head(5))\n",
    "print(view.shape[0])\n",
    "#users=[196,122,248,98,400,111,222,333,444,555,406,509,408,309,210,311,121,131]\n",
    "u=int(input())\n",
    "users=data['userId'].values\n",
    "users=list(dict.fromkeys(users))\n",
    "users.remove(u)"
   ]
  },
  {
   "cell_type": "code",
   "execution_count": 176,
   "metadata": {},
   "outputs": [
    {
     "name": "stdout",
     "output_type": "stream",
     "text": [
      "Type of movies watched by user-> 122 [5, 8, 2]\n",
      "Type of movies watched by user-> 205 [2, 5, 8]\n",
      "Type of movies watched by user-> 248 [1, 2, 15]\n",
      "Type of movies watched by user-> 98 [8, 5, 6]\n",
      "Type of movies watched by user-> 401 [3, 5, 4]\n",
      "Type of movies watched by user-> 111 [5, 8, 14]\n",
      "Type of movies watched by user-> 233 [8, 2, 5]\n",
      "Type of movies watched by user-> 338 [6, 8, 16]\n",
      "Type of movies watched by user-> 459 [2, 1, 15]\n",
      "Type of movies watched by user-> 556 [9, 2, 1]\n",
      "Type of movies watched by user-> 414 [1, 5, 6]\n",
      "Type of movies watched by user-> 511 [16, 8, 2]\n",
      "Type of movies watched by user-> 414 [1, 5, 6]\n",
      "Type of movies watched by user-> 318 [8, 5, 6]\n",
      "Type of movies watched by user-> 210 [15, 5, 1]\n",
      "Type of movies watched by user-> 318 [8, 5, 6]\n",
      "Type of movies watched by user-> 153 [5, 8, 2]\n",
      "Type of movies watched by user-> 153 [5, 8, 2]\n"
     ]
    }
   ],
   "source": [
    "\n",
    "\n",
    "list_type=[]\n",
    "def getCommonList(u):\n",
    "    global y\n",
    "    y=u\n",
    "    view1=view[(view.userId==u)]\n",
    "    if(view1.shape[0]==0):\n",
    "        getCommonList(u+1)\n",
    "    #else:\n",
    "      #  print(view1)\n",
    "    vs=view1.sort_values([\"timestamp\",\"userId\"], axis=0, \n",
    "                 ascending=False, inplace=False)\n",
    "    l=view1['movieId'].values\n",
    "    sp=[]\n",
    "    for i in l[0:10]:\n",
    "        s=movies.loc[movies['movieId'] == i]['genres'].iloc[0]\n",
    "        sp.extend(s.split(','))\n",
    "    sp = map(int, sp)\n",
    "    r = [x for x, _ in Counter(sp).most_common(c)]\n",
    "    list_type.extend(r)\n",
    "    \n",
    "getCommonList(u)\n",
    "list1=list_type\n",
    "print(\"Type of movies watched by user->\",u,list1)\n",
    "\n",
    "\n",
    "commonList=[]\n",
    "for x in users:\n",
    "    list_type=[]\n",
    "    getCommonList(x)\n",
    "    if list_type:\n",
    "        commonList.extend(list_type)\n",
    "        print(\"Type of movies watched by user->\",y,list_type)\n",
    "\n"
   ]
  },
  {
   "cell_type": "code",
   "execution_count": 177,
   "metadata": {},
   "outputs": [
    {
     "name": "stdout",
     "output_type": "stream",
     "text": [
      "CommonList is -> [5, 8, 2, 6, 1, 15, 16]\n",
      "Collaborative List-> [6, 1, 15, 16]\n",
      "\n",
      "Recommendation List of user-> 122 [5, 8, 2, 6, 1, 15, 16]\n"
     ]
    }
   ],
   "source": [
    "cl=[]\n",
    "\n",
    "vc = pd.Series(commonList).value_counts()\n",
    "cl=vc[vc > 1].index.tolist()\n",
    "               \n",
    "print(\"CommonList is ->\",cl)\n",
    "list2=[]\n",
    "list2.extend([item for item in cl if item not in list1])\n",
    "print(\"Collaborative List->\",list2)\n",
    "list1.extend([item for item in cl if item not in list1])\n",
    "    \n",
    "print(\"\\n\"\"Recommendation List of user->\",u,list1)"
   ]
  },
  {
   "cell_type": "code",
   "execution_count": 178,
   "metadata": {},
   "outputs": [
    {
     "name": "stdout",
     "output_type": "stream",
     "text": [
      "Recommended list1 of movies for user -> 122 \n",
      "\n",
      "Total Movies= 8923\n"
     ]
    }
   ],
   "source": [
    "print(\"Recommended list1 of movies for user ->\",u,\"\\n\")\n",
    "c=0\n",
    "s=0\n",
    "d=movies['genres'].values\n",
    "link=movies['links'].values\n",
    "name=movies['title'].values\n",
    "\n",
    "for i,k in enumerate(d):\n",
    "    li=k.split(',')\n",
    "    for j in list1:\n",
    "        if str(j) in li:\n",
    "            s=1\n",
    "            break\n",
    "        else:\n",
    "            s=0\n",
    "    if s==1:\n",
    "        c=c+1\n",
    "       # print(li,name[i],link[i])\n",
    "\n",
    "\n",
    "print(\"Total Movies=\",c)"
   ]
  },
  {
   "cell_type": "code",
   "execution_count": 179,
   "metadata": {},
   "outputs": [
    {
     "name": "stdout",
     "output_type": "stream",
     "text": [
      "\n",
      "\n",
      "\n",
      "\n",
      "\n",
      "\n",
      "\n",
      "List 2-> [6, 1, 15, 16]\n",
      "Recommended list2 of movies for user  -> 122 \n",
      "\n",
      "Total Movies= 3892\n"
     ]
    }
   ],
   "source": [
    "print(\"\\n\\n\\n\\n\\n\\n\")\n",
    "print(\"List 2->\",list2)\n",
    "\n",
    "print(\"Recommended list2 of movies for user  ->\",u,\"\\n\")\n",
    "c=0\n",
    "s=0\n",
    "d=movies['genres'].values\n",
    "link=movies['links'].values\n",
    "name=movies['title'].values\n",
    "\n",
    "for i,k in enumerate(d):\n",
    "    li=k.split(',')\n",
    "    for j in list2:\n",
    "        if str(j) in li:\n",
    "            s=1\n",
    "            break\n",
    "        else:\n",
    "            s=0\n",
    "    if s==1:\n",
    "        c=c+1\n",
    "        #print(li,name[i],link[i])\n",
    "\n",
    "\n",
    "print(\"Total Movies=\",c)"
   ]
  },
  {
   "cell_type": "code",
   "execution_count": null,
   "metadata": {},
   "outputs": [],
   "source": []
  }
 ],
 "metadata": {
  "kernelspec": {
   "display_name": "Python 3",
   "language": "python",
   "name": "python3"
  },
  "language_info": {
   "codemirror_mode": {
    "name": "ipython",
    "version": 3
   },
   "file_extension": ".py",
   "mimetype": "text/x-python",
   "name": "python",
   "nbconvert_exporter": "python",
   "pygments_lexer": "ipython3",
   "version": "3.7.2"
  }
 },
 "nbformat": 4,
 "nbformat_minor": 2
}
